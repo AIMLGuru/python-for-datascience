{
 "cells": [
  {
   "cell_type": "markdown",
   "metadata": {},
   "source": [
    "## Task 1\n",
    "\n",
    " 1.  Write a function to compute 5/0 and use try/except to catch the exceptions."
   ]
  },
  {
   "cell_type": "code",
   "execution_count": 1,
   "metadata": {},
   "outputs": [
    {
     "name": "stdout",
     "output_type": "stream",
     "text": [
      "The entry is 0\n",
      "Oops! <class 'ZeroDivisionError'> occured.\n"
     ]
    }
   ],
   "source": [
    "import sys\n",
    "\n",
    "def divisionByZero(num):\n",
    "    '''This fuction divides num by zero and excepts the ZeroDivisionError'''\n",
    "    try:\n",
    "        print(\"The entry is\",num)\n",
    "        r = num/0\n",
    "    except (ZeroDivisionError):\n",
    "        print(\"Oops!\", sys.exc_info()[0],\"occured.\")\n",
    "\n",
    "\n",
    "divisionByZero(0)"
   ]
  },
  {
   "cell_type": "markdown",
   "metadata": {},
   "source": [
    "#### 2. \n",
    " \n",
    "Implement a Python program to generate all sentences where subject is in [\"Americans\", \"Indians\"] and verb is in [\"Play\", \"watch\"] and the object is in [\"Baseball\",\"cricket\"]. \n",
    " \n",
    "Hint: Subject,Verb and Object should be declared in the program as shown below. <br>\n",
    " \n",
    "subjects=[\"Americans \",\"Indians\"] <br>\n",
    "verbs=[\"play\",\"watch\"] <br>\n",
    "objects=[\"Baseball\",\"Cricket\"]<br> \n",
    " \n",
    "Output should come as below: <br>\n",
    " \n",
    "Americans  play Baseball.<br>\n",
    "Americans  play Cricket.<br>\n",
    "Americans  watch Baseball.<br>\n",
    "Americans  watch Cricket.<br> \n",
    "Indians play Baseball.<br> \n",
    "Indians play Cricket.<br> \n",
    "Indians watch Baseball.<br> \n",
    "Indians watch Cricket.<br>"
   ]
  },
  {
   "cell_type": "code",
   "execution_count": 2,
   "metadata": {},
   "outputs": [
    {
     "name": "stdout",
     "output_type": "stream",
     "text": [
      "Americans  play Baseball\n",
      "Americans  play Cricket\n",
      "Americans  watch Baseball\n",
      "Americans  watch Cricket\n",
      "Indians play Baseball\n",
      "Indians play Cricket\n",
      "Indians watch Baseball\n",
      "Indians watch Cricket\n"
     ]
    }
   ],
   "source": [
    "#List comprehension comes handy here\n",
    "subjects=[\"Americans \",\"Indians\"]\n",
    "verbs=[\"play\",\"watch\"]\n",
    "objects=[\"Baseball\",\"Cricket\"]\n",
    "\n",
    "statements=[[a+' '+b+' '+c] for a in subjects for b in verbs for c in objects]\n",
    "for statement in statements:\n",
    "    print (''.join(statement))"
   ]
  },
  {
   "cell_type": "markdown",
   "metadata": {},
   "source": [
    "## Task 2:  \n",
    " \n",
    " \n",
    "#### 1.  \n",
    " \n",
    "Write a function so that the columns of the output matrix are powers of the input vector.  \n",
    "The order of the powers is determined by the increasing boolean argument. Specifically, when              \n",
    "increasing is False, the i-th output column is the input vector raised element-wise to the power                \n",
    "of N - i - 1.  \n",
    " \n",
    "HINT: Such a matrix with a geometric progression in each row is named for Alexandre               \n",
    "    Theophile Vandermonde. "
   ]
  },
  {
   "cell_type": "code",
   "execution_count": 3,
   "metadata": {},
   "outputs": [
    {
     "name": "stdout",
     "output_type": "stream",
     "text": [
      "The required Vandermore matrix is : \n",
      " [[[  1   1   1   1   1]]\n",
      "\n",
      " [[ 16   8   4   2   1]]\n",
      "\n",
      " [[ 81  27   9   3   1]]\n",
      "\n",
      " [[256  64  16   4   1]]])\n"
     ]
    }
   ],
   "source": [
    "# numpy reduces much effort in implementing VANDERMORE MATRIX\n",
    "import numpy as np\n",
    "\n",
    "x=np.array([1,2,3,4])\n",
    "N=5\n",
    "result=[[x**(N-1-i)] for i in range(N)] \n",
    "\n",
    "result_matrix=np.asarray(result).T\n",
    "\n",
    "print('The required Vandermore matrix is : \\n {})'.format(result_matrix))\n"
   ]
  }
 ],
 "metadata": {
  "kernelspec": {
   "display_name": "Python 3",
   "language": "python",
   "name": "python3"
  },
  "language_info": {
   "codemirror_mode": {
    "name": "ipython",
    "version": 3
   },
   "file_extension": ".py",
   "mimetype": "text/x-python",
   "name": "python",
   "nbconvert_exporter": "python",
   "pygments_lexer": "ipython3",
   "version": "3.7.4"
  }
 },
 "nbformat": 4,
 "nbformat_minor": 2
}
