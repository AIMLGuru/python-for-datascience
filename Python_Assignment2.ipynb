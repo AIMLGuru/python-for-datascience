{
 "cells": [
  {
   "cell_type": "code",
   "execution_count": 1,
   "metadata": {},
   "outputs": [
    {
     "name": "stdout",
     "output_type": "stream",
     "text": [
      "45\n"
     ]
    }
   ],
   "source": [
    "#Task 1\n",
    "#1.1\n",
    "#Custom reduce function\n",
    "\n",
    "def customReduce(func, iterable):\n",
    "    '''This function implements custom reduce function'''\n",
    "    \n",
    "    result=iterable[0]\n",
    "    for item in iterable[1:]:\n",
    "        result=func(item, result)\n",
    "    return result\n",
    "\n",
    "#Test customReduce function to add the number from 0 to 9\n",
    "print(customReduce(lambda x,y:x+y, [i for i in range(10)]))"
   ]
  },
  {
   "cell_type": "code",
   "execution_count": 2,
   "metadata": {},
   "outputs": [
    {
     "name": "stdout",
     "output_type": "stream",
     "text": [
      "[2, 4, 6, 8]\n"
     ]
    }
   ],
   "source": [
    "#Task1\n",
    "#1.2\n",
    "#Custom Filter Function\n",
    "\n",
    "def customFilter(func, iterable):\n",
    "    '''This function implements custom filter function'''\n",
    "    \n",
    "    result=list()\n",
    "    for item in iterable:\n",
    "        if func(item):\n",
    "            result.append(item)\n",
    "    return result\n",
    "     \n",
    "\n",
    "#Testing custom built Filter function\n",
    "#return only Even numbers in given list\n",
    "print(customFilter(lambda x:x%2==0, [i for i in range(1,10)]))"
   ]
  },
  {
   "cell_type": "code",
   "execution_count": 3,
   "metadata": {},
   "outputs": [
    {
     "name": "stdout",
     "output_type": "stream",
     "text": [
      "['A', 'C', 'A', 'D', 'G', 'I', 'L', 'D']\n",
      "['x', 'xx', 'xxx', 'xxxx', 'y', 'yy', 'yyy', 'yyyy', 'z', 'zz', 'zzz', 'zzzz']\n",
      "['x', 'y', 'z', 'xx', 'yy', 'zz', 'xxx', 'yyy', 'zzz', 'xxxx', 'yyyy', 'zzzz']\n",
      "[[2], [3], [4], [3], [4], [5], [4], [5], [6]]\n",
      "[[2, 3, 4], [3, 4, 5], [4, 5, 6], [5, 6, 7]]\n",
      "[(1, 1), (2, 1), (3, 1), (1, 2), (2, 2), (3, 2), (1, 3), (2, 3), (3, 3)]\n"
     ]
    }
   ],
   "source": [
    "#Task1\n",
    "#2\n",
    "'''Implement List comprehensions to produce the following lists. \n",
    "Write List comprehensions to produce the following Lists '''\n",
    "\n",
    "#['A', 'C', 'A', 'D', 'G', 'I', ’L’, ‘ D’] \n",
    "string='ACADGILD'\n",
    "print(list(string))\n",
    "\n",
    "\n",
    "#['x', 'xx', 'xxx', 'xxxx', 'y', 'yy', 'yyy', 'yyyy', 'z', 'zz', 'zzz', 'zzzz']\n",
    "string_list=['x', 'y', 'z']\n",
    "print([i*j for j in string_list for i in range(1,5)])\n",
    "\n",
    "\n",
    "\n",
    "#['x', 'y', 'z', 'xx', 'yy', 'zz', 'xxx', 'yyy', 'zzz', 'xxxx', 'yyyy', 'zzzz'] \n",
    "print([i*j for i in range(1,5) for j in string_list])\n",
    "\n",
    "\n",
    "#[[2], [3], [4], [3], [4], [5], [4], [5], [6]] \n",
    "number_list = [2,3,4]\n",
    "print([ [i+j] for i in number_list for j in range(0,3)])\n",
    "\n",
    "\n",
    "\n",
    "#[[2, 3, 4, 5], [3, 4, 5, 6], [4, 5, 6, 7], [5, 6, 7, 8]] \n",
    "print([ [i+j for i in number_list] for j in range(0,4)])\n",
    "\n",
    "\n",
    "#[(1, 1), (2, 1), (3, 1), (1, 2), (2, 2), (3, 2), (1, 3), (2, 3), (3, 3)] \n",
    "print([(j-1,i-1) for i in number_list for j in number_list])"
   ]
  },
  {
   "cell_type": "code",
   "execution_count": 4,
   "metadata": {},
   "outputs": [
    {
     "name": "stdout",
     "output_type": "stream",
     "text": [
      "The longest word is:  knowledge\n"
     ]
    }
   ],
   "source": [
    "#Task1\n",
    "#3\n",
    "def longestWord(seq):\n",
    "    '''This function takes list of words and returns the longest word'''\n",
    "    \n",
    "    wordLenght=[len(i) for i in seq]\n",
    "    ele=wordLenght.index(max(wordLenght))\n",
    "    return seq[ele]\n",
    "\n",
    "words=['apple', 'knowledge', 'cat', 'Arun', 'a']\n",
    "print('The longest word is: ', longestWord(words))\n",
    "    "
   ]
  },
  {
   "cell_type": "code",
   "execution_count": 5,
   "metadata": {},
   "outputs": [
    {
     "name": "stdout",
     "output_type": "stream",
     "text": [
      "Enter the length of side 1 -> 3\n",
      "Enter the length of side 2 -> 5\n",
      "Enter the length of side 3 -> 4\n",
      "The area of the triangle is 6.0\n"
     ]
    }
   ],
   "source": [
    "#Task 2\n",
    "#1.1\n",
    "'''\n",
    "Python Program(with class concepts) to find the area of the triangle using the below formula. \n",
    "area = (s*(s-a)*(s-b)*(s-c)) ** 0.5 \n",
    "Function to take the length of the sides of triangle from user should be defined in the parent \n",
    "class and function to calculate the area should be defined in subclass. \n",
    "'''\n",
    "#Parent Class\n",
    "class Polygon:\n",
    "    def __init__(self, no_of_sides): #initialsing constructor\n",
    "        self.no_of_sides = no_of_sides\n",
    "        self.sides = list()\n",
    "\n",
    "    def inputSides(self):\n",
    "        '''This function takes the lenght of sides of triangle as input from user'''\n",
    "        for i in range(self.no_of_sides):\n",
    "            self.sides.append(float(input('Enter the length of side {} -> '.format((i+1))))) #Take inputs from console\n",
    "\n",
    "            \n",
    "#Child Class\n",
    "class Triangle(Polygon):\n",
    "    def __init__(self):\n",
    "        Polygon.__init__(self,3)\n",
    "\n",
    "    def calculateArea(self):\n",
    "        '''Given the lenght of sides, this fuction calculates the are of Triangle'''\n",
    "        a,b,c = self.sides\n",
    "        s = (a+b+c)/2\n",
    "        area = (s*(s-a)*(s-b)*(s-c))**0.5\n",
    "        return area\n",
    "        \n",
    "triangle = Triangle()\n",
    "triangle.inputSides()\n",
    "print('The area of the triangle is {}'.format(triangle.calculateArea()))"
   ]
  },
  {
   "cell_type": "code",
   "execution_count": 6,
   "metadata": {},
   "outputs": [
    {
     "name": "stdout",
     "output_type": "stream",
     "text": [
      "The words which have length > 3 are: \n",
      "['apple', 'knowledge', 'Arun', 'knowledge']\n"
     ]
    }
   ],
   "source": [
    "#Task2\n",
    "#1.2\n",
    "def filter_long_words(words, n):\n",
    "    '''This fucntion returns all the words in the lists whose wordlenght is greater than n'''\n",
    "    \n",
    "    words_length=list(map(lambda x:len(x)  , words))\n",
    "    print('The words which have length > {} are: '.format(n))\n",
    "    print([words[words_length.index(i)] for i in words_length if i > n])\n",
    "   \n",
    "\n",
    "filter_long_words(['apple', 'knowledge', 'cat', 'Arun', 'a', 'knowledge'], 3)"
   ]
  },
  {
   "cell_type": "code",
   "execution_count": 7,
   "metadata": {},
   "outputs": [
    {
     "name": "stdout",
     "output_type": "stream",
     "text": [
      "[2, 3, 4]\n"
     ]
    }
   ],
   "source": [
    "#Task 2\n",
    "#2.1\n",
    "def lenghtOfWords(word_list):\n",
    "    '''This function takes a list of words and returns a list of lenght of words'''\n",
    "    print(list(map(lambda x:len(x), word_list)))\n",
    "\n",
    "lenghtOfWords([ 'ab','cde','erty'])\n",
    "    "
   ]
  },
  {
   "cell_type": "code",
   "execution_count": 8,
   "metadata": {},
   "outputs": [
    {
     "name": "stdout",
     "output_type": "stream",
     "text": [
      "True\n",
      "False\n"
     ]
    }
   ],
   "source": [
    "#Task2\n",
    "#2.2\n",
    "def isVowel(char):\n",
    "    '''This fuction return true if given charater is volwel else returns false'''\n",
    "    return char.lower() in ['a', 'e', 'i', 'o', 'u']\n",
    "\n",
    "print(isVowel('A'))\n",
    "print(isVowel('z'))"
   ]
  },
  {
   "cell_type": "code",
   "execution_count": null,
   "metadata": {},
   "outputs": [],
   "source": []
  }
 ],
 "metadata": {
  "kernelspec": {
   "display_name": "Python 3",
   "language": "python",
   "name": "python3"
  },
  "language_info": {
   "codemirror_mode": {
    "name": "ipython",
    "version": 3
   },
   "file_extension": ".py",
   "mimetype": "text/x-python",
   "name": "python",
   "nbconvert_exporter": "python",
   "pygments_lexer": "ipython3",
   "version": "3.7.4"
  }
 },
 "nbformat": 4,
 "nbformat_minor": 2
}
