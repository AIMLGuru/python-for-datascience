{
 "cells": [
  {
   "cell_type": "markdown",
   "metadata": {},
   "source": [
    "### Task: 1\n",
    " \n",
    " \n",
    "1.  Install Jupyter notebook and run the first program and share the screenshot of the output"
   ]
  },
  {
   "cell_type": "code",
   "execution_count": 1,
   "metadata": {},
   "outputs": [
    {
     "name": "stdout",
     "output_type": "stream",
     "text": [
      "Welcome to the world of AI\n"
     ]
    }
   ],
   "source": [
    "print('Welcome to the world of AI')"
   ]
  },
  {
   "cell_type": "markdown",
   "metadata": {},
   "source": [
    "2.  Write a program which will find all such numbers which are divisible by 7 but are not a multiple of 5,<br> \n",
    "between 2000 and 3200 (both included). The numbers obtained should be printed in a comma-separated sequence on a single line"
   ]
  },
  {
   "cell_type": "code",
   "execution_count": 2,
   "metadata": {},
   "outputs": [
    {
     "name": "stdout",
     "output_type": "stream",
     "text": [
      "2002,2009,2016,2023,2037,2044,2051,2058,2072,2079,2086,2093,2107,2114,2121,2128,2142,2149,2156,2163,2177,2184,2191,2198,2212,2219,2226,2233,2247,2254,2261,2268,2282,2289,2296,2303,2317,2324,2331,2338,2352,2359,2366,2373,2387,2394,2401,2408,2422,2429,2436,2443,2457,2464,2471,2478,2492,2499,2506,2513,2527,2534,2541,2548,2562,2569,2576,2583,2597,2604,2611,2618,2632,2639,2646,2653,2667,2674,2681,2688,2702,2709,2716,2723,2737,2744,2751,2758,2772,2779,2786,2793,2807,2814,2821,2828,2842,2849,2856,2863,2877,2884,2891,2898,2912,2919,2926,2933,2947,2954,2961,2968,2982,2989,2996,3003,3017,3024,3031,3038,3052,3059,3066,3073,3087,3094,3101,3108,3122,3129,3136,3143,3157,3164,3171,3178,3192,3199\n"
     ]
    }
   ],
   "source": [
    "startSeq=2000\n",
    "endSeq=3200\n",
    "result=list()\n",
    "def filterNumbers(start, end):\n",
    "    '''\n",
    "    This function prints the numbers which are divisible by 7 but not mutiple of 5\n",
    "    between 2000 to 3200\n",
    "    '''\n",
    "    for num in range(start, end+1):\n",
    "        if (num%7==0) and (num%5 !=0):\n",
    "            result.append(str(num))\n",
    "    print(','.join(result))\n",
    "            \n",
    "filterNumbers(startSeq, endSeq)\n",
    "            "
   ]
  },
  {
   "cell_type": "markdown",
   "metadata": {},
   "source": [
    "3. Write a Python program to accept the user's first and last name and then getting them printed in the the reverse order with a space between first name and last name"
   ]
  },
  {
   "cell_type": "code",
   "execution_count": 3,
   "metadata": {},
   "outputs": [
    {
     "name": "stdout",
     "output_type": "stream",
     "text": [
      "Please enter your first name: Guruprasad\n",
      "Please enter your last name: Gachhinakatti\n",
      "Name reversed: ittakanihhcaG dasarpuruG\n"
     ]
    }
   ],
   "source": [
    "firstName_list=list(input('Please enter your first name: '))\n",
    "lastName_list=list(input('Please enter your last name: '))\n",
    "\n",
    "def reversePrintName(firstName_list, lastName_list):\n",
    "    '''\n",
    "    This function takes first name and last name as input and prints them in reverse order with a space between\n",
    "    first name and last name\n",
    "    '''\n",
    "    \n",
    "    print('Name reversed: {1} {0}'.format(''.join(firstName_list[::-1]), ''.join(lastName_list[::-1])))\n",
    "    \n",
    "reversePrintName(firstName_list, lastName_list)"
   ]
  },
  {
   "cell_type": "markdown",
   "metadata": {},
   "source": [
    "4. Write a Python program to find the volume of a sphere with diameter 12 cm.  <br>\n",
    "   Formula: V=4/3 * π * r 3 "
   ]
  },
  {
   "cell_type": "code",
   "execution_count": 4,
   "metadata": {},
   "outputs": [
    {
     "name": "stdout",
     "output_type": "stream",
     "text": [
      "voume of sphere is  904.7786842338603\n"
     ]
    }
   ],
   "source": [
    "import math\n",
    "\n",
    "pi=math.pi\n",
    "diameter=12\n",
    "radius=diameter/2\n",
    "\n",
    "def voulumeOfSphere(radius):\n",
    "    \n",
    "    '''This function calculates the volume of sphere given radius'''\n",
    "    \n",
    "    volume=(4/3)*pi*radius**3\n",
    "    print('voume of sphere is ', volume )\n",
    "\n",
    "voulumeOfSphere(radius)"
   ]
  },
  {
   "cell_type": "markdown",
   "metadata": {},
   "source": [
    "### Task: 2\n",
    "1. Write a program which accepts a sequence of comma-separated numbers from console and generate a list."
   ]
  },
  {
   "cell_type": "code",
   "execution_count": 5,
   "metadata": {},
   "outputs": [
    {
     "name": "stdout",
     "output_type": "stream",
     "text": [
      "Enter numbers comma seperated: 1,2,3,4\n",
      "The output list is: ['1', '2', '3', '4']\n"
     ]
    }
   ],
   "source": [
    "numbers_str=str(input('Enter numbers comma seperated: '))\n",
    "number_list=numbers_str.split(',')\n",
    "\n",
    "print('The output list is: {}'.format(number_list))"
   ]
  },
  {
   "cell_type": "markdown",
   "metadata": {},
   "source": [
    "2. Create the below pattern using nested for loop in Python. \n",
    " \n",
    " \n",
    "*<br>  * *<br>  * * *<br>  * * * *<br>  * * * * *<br>  * * * *<br>  * * *<br>  * *<br>  * "
   ]
  },
  {
   "cell_type": "code",
   "execution_count": 6,
   "metadata": {},
   "outputs": [
    {
     "name": "stdout",
     "output_type": "stream",
     "text": [
      "*\r\n",
      "**\r\n",
      "***\r\n",
      "****\r\n",
      "*****\r\n",
      "****\r\n",
      "***\r\n",
      "**\r\n",
      "*\r\n",
      "\r\n"
     ]
    }
   ],
   "source": [
    "for i in range (0, 5):\n",
    "    for j in range(0, i+1):\n",
    "        print(\"*\", end='')\n",
    "    print('\\r')\n",
    "\n",
    "for i in range (5, 0, -1):\n",
    "    for j in range(0, i-1):\n",
    "        print(\"*\", end='')\n",
    "    print('\\r')"
   ]
  },
  {
   "cell_type": "markdown",
   "metadata": {},
   "source": [
    "3. Write a Python program to reverse a word after accepting the input from the user.<br> \n",
    "\n",
    "    Input word: AcadGild <br>\n",
    "    Output: dilGdacA <br>"
   ]
  },
  {
   "cell_type": "code",
   "execution_count": 7,
   "metadata": {},
   "outputs": [
    {
     "name": "stdout",
     "output_type": "stream",
     "text": [
      "Please enter a word: AcadGild\n",
      "The word reversed is:  dliGdacA\n"
     ]
    }
   ],
   "source": [
    "word=input('Please enter a word: ')\n",
    "word_list=list(word)\n",
    "rev_word_list=word_list[::-1]\n",
    "rev_word=''.join(map(str, rev_word_list))\n",
    "print('The word reversed is: ', rev_word)"
   ]
  },
  {
   "cell_type": "markdown",
   "metadata": {},
   "source": [
    "4. Write a Python Program to print the given string in the format specified in the ​sample output. \n",
    " WE, THE PEOPLE OF INDIA, having solemnly resolved to constitute India into a SOVEREIGN, SOCIALIST, SECULAR, DEMOCRATIC REPUBLIC and to secure to all its citizens <br>\n",
    " \n",
    "Sample Output: <br>(Actual output to be shown is found in the code below)\n"
   ]
  },
  {
   "cell_type": "code",
   "execution_count": 8,
   "metadata": {},
   "outputs": [
    {
     "name": "stdout",
     "output_type": "stream",
     "text": [
      "WE, THE PEOPLE OF INDIA,\n",
      "\t having solemnly resolved to constitute India into a SOVEREIGN,!\n",
      "\t\t SOCIALIST, SECULAR, DEMOCRATIC REPUBLIC\n",
      "\t\t  and to secure to all its citizens\n"
     ]
    }
   ],
   "source": [
    "string='WE, THE PEOPLE OF INDIA, having solemnly resolved to constitute India into a SOVEREIGN, SOCIALIST, SECULAR, DEMOCRATIC REPUBLIC and to secure to all its citizens'\n",
    "modified_string='WE, THE PEOPLE OF INDIA,{} having solemnly resolved to constitute India into a SOVEREIGN,{} SOCIALIST, SECULAR, DEMOCRATIC REPUBLIC{} and to secure to all its citizens'\n",
    "print(modified_string.format('\\n\\t', '!\\n\\t\\t', '\\n\\t\\t '))\n",
    "\n",
    "\n",
    "\n"
   ]
  },
  {
   "cell_type": "code",
   "execution_count": null,
   "metadata": {},
   "outputs": [],
   "source": []
  }
 ],
 "metadata": {
  "kernelspec": {
   "display_name": "Python 3",
   "language": "python",
   "name": "python3"
  },
  "language_info": {
   "codemirror_mode": {
    "name": "ipython",
    "version": 3
   },
   "file_extension": ".py",
   "mimetype": "text/x-python",
   "name": "python",
   "nbconvert_exporter": "python",
   "pygments_lexer": "ipython3",
   "version": "3.7.4"
  }
 },
 "nbformat": 4,
 "nbformat_minor": 2
}
